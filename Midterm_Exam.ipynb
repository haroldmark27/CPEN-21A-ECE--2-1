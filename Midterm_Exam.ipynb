{
  "nbformat": 4,
  "nbformat_minor": 0,
  "metadata": {
    "colab": {
      "name": "Midterm Exam.ipynb",
      "provenance": [],
      "authorship_tag": "ABX9TyMtQVl6SbZ6HXlGcYKzSi+k",
      "include_colab_link": true
    },
    "kernelspec": {
      "name": "python3",
      "display_name": "Python 3"
    },
    "language_info": {
      "name": "python"
    }
  },
  "cells": [
    {
      "cell_type": "markdown",
      "metadata": {
        "id": "view-in-github",
        "colab_type": "text"
      },
      "source": [
        "<a href=\"https://colab.research.google.com/github/haroldmark27/CPEN-21A-ECE--2-1/blob/main/Midterm_Exam.ipynb\" target=\"_parent\"><img src=\"https://colab.research.google.com/assets/colab-badge.svg\" alt=\"Open In Colab\"/></a>"
      ]
    },
    {
      "cell_type": "markdown",
      "metadata": {
        "id": "am82zkTU3giq"
      },
      "source": [
        "PROBLEM STATEMENT 1."
      ]
    },
    {
      "cell_type": "code",
      "metadata": {
        "colab": {
          "base_uri": "https://localhost:8080/"
        },
        "id": "9OFTMNvu3kyY",
        "outputId": "a393a815-e29d-4f44-c5e1-d4291e9fb494"
      },
      "source": [
        "#Provide your necessary information below using python codes.\n",
        "\n",
        "print (\"Name: Harold Mark Vergara\") #a\n",
        "print (\"Student No.: 202012423\") #b\n",
        "print (\"Age: 20 Years Old\") #c\n",
        "print (\"Birthday: March 27, 2001\") #d\n",
        "print (\"Address: P2 B26 L6 Jade Street Holiday Homes Brgy. Biclatan Gen. Trias, Cavite\") #e\n",
        "print (\"Course: Bachelor of Science in Electronics and Communication Engineering \") #f\n",
        "print (\"Last Sem GWA: 1.42\") #g"
      ],
      "execution_count": 44,
      "outputs": [
        {
          "output_type": "stream",
          "name": "stdout",
          "text": [
            "Name: Harold Mark Vergara\n",
            "Student No.: 202012423\n",
            "Age: 20 Years Old\n",
            "Birthday: March 27, 2001\n",
            "Address: P2 B26 L6 Jade Street Holiday Homes Brgy. Biclatan Gen. Trias, Cavite\n",
            "Course: Bachelor of Science in Electronics and Communication Engineering \n",
            "Last Sem GWA: 1.42\n"
          ]
        }
      ]
    },
    {
      "cell_type": "markdown",
      "metadata": {
        "id": "fuy8clm-5xcf"
      },
      "source": [
        "PROBLEM STATEMENT 2."
      ]
    },
    {
      "cell_type": "code",
      "metadata": {
        "colab": {
          "base_uri": "https://localhost:8080/"
        },
        "id": "a5MIB_je6mgc",
        "outputId": "d495d8e9-fa86-4c76-bfd6-804ab4900b64"
      },
      "source": [
        "#Suppose the numeric variable n has value 4 and the string variable answ has value “Y”. Determine whether each of the following conditions is true or false.\n",
        "n=4\n",
        "answ=\"Y\"\n",
        "\n",
        "print(bool(2<n)and(n<6)) #a\n",
        "print(bool(2<n)or(n==6)) #b\n",
        "print(bool(not(2<n)or(n==6))) #c\n",
        "print(bool(not(n<6))) #d\n",
        "print(bool(answ==\"Y\")or(answ==\"y\")) #e\n",
        "print(bool(answ==\"Y\")and(answ==\"y\")) #f\n",
        "print(bool(not(answ==\"y\"))) #g\n",
        "print(bool((2<n)and(n==5+1))or(answ==\"No\")) #h\n",
        "print(bool((n==2)and(n==7))or(answ==\"Y\")) #i\n",
        "print(bool(n==2)and((n==7)or(answ==\"Y\"))) #j\n"
      ],
      "execution_count": 42,
      "outputs": [
        {
          "output_type": "stream",
          "name": "stdout",
          "text": [
            "True\n",
            "True\n",
            "False\n",
            "False\n",
            "True\n",
            "False\n",
            "True\n",
            "False\n",
            "True\n",
            "False\n"
          ]
        }
      ]
    },
    {
      "cell_type": "markdown",
      "metadata": {
        "id": "goO9P_RR7D7F"
      },
      "source": [
        "PROBLEM STATEMENT 3."
      ]
    },
    {
      "cell_type": "code",
      "metadata": {
        "colab": {
          "base_uri": "https://localhost:8080/"
        },
        "id": "UXG8VNqC7Hqo",
        "outputId": "5288ae21-c833-4ed8-ce45-68faf119b54d"
      },
      "source": [
        "#Write a Python program with the statements that computes and reports the results of each of the following arithmetic expressions. Initialize the following variable:\n",
        "\n",
        "x=2\n",
        "y=-3\n",
        "w=7\n",
        "z=-10\n",
        "\n",
        "print (x/y) #a\n",
        "print (w/y/x) #b\n",
        "print (z/y%x) #c\n",
        "print (x%-y*w) #d\n",
        "print (x%y) #e\n",
        "print (z%w-y/x*5+5) #f\n",
        "print (9-x%(2+y)) #g\n",
        "print (z//w) #h\n",
        "print ((2+y)**2) #i\n",
        "print (w/x*2) #j"
      ],
      "execution_count": 45,
      "outputs": [
        {
          "output_type": "stream",
          "name": "stdout",
          "text": [
            "-0.6666666666666666\n",
            "-1.1666666666666667\n",
            "1.3333333333333335\n",
            "14\n",
            "-1\n",
            "16.5\n",
            "9\n",
            "-2\n",
            "1\n",
            "7.0\n"
          ]
        }
      ]
    }
  ]
}