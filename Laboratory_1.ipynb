{
  "nbformat": 4,
  "nbformat_minor": 0,
  "metadata": {
    "colab": {
      "name": "Laboratory 1",
      "provenance": [],
      "authorship_tag": "ABX9TyN4phWhSHwNz2NXI2EjBKch",
      "include_colab_link": true
    },
    "kernelspec": {
      "name": "python3",
      "display_name": "Python 3"
    },
    "language_info": {
      "name": "python"
    }
  },
  "cells": [
    {
      "cell_type": "markdown",
      "metadata": {
        "id": "view-in-github",
        "colab_type": "text"
      },
      "source": [
        "<a href=\"https://colab.research.google.com/github/haroldmark27/CPEN-21A-ECE--2-1/blob/main/Laboratory_1.ipynb\" target=\"_parent\"><img src=\"https://colab.research.google.com/assets/colab-badge.svg\" alt=\"Open In Colab\"/></a>"
      ]
    },
    {
      "cell_type": "code",
      "metadata": {
        "colab": {
          "base_uri": "https://localhost:8080/"
        },
        "id": "d9wAPIYgsWGv",
        "outputId": "fa780daa-9a94-47e4-ba77-f65a31454bd0"
      },
      "source": [
        "print (\"Welcome to Python Programming\")\n",
        "print (\"Name: Harold Mark Vergara\")\n",
        "print (\"Address: Block 26 Lot 6 Jade Street Holiday Homes Barangay Biclatan City of General Trias, Cavite\")\n",
        "print (\"Age: 20 Years Old\")"
      ],
      "execution_count": 1,
      "outputs": [
        {
          "output_type": "stream",
          "name": "stdout",
          "text": [
            "Welcome to Python Programming\n",
            "Name: Harold Mark Vergara\n",
            "Address: Block 26 Lot 6 Jade Street Holiday Homes Barangay Biclatan City of General Trias, Cavite\n",
            "Age: 20 Years Old\n"
          ]
        }
      ]
    }
  ]
}