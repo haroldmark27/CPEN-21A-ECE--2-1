{
  "nbformat": 4,
  "nbformat_minor": 0,
  "metadata": {
    "colab": {
      "name": "Final Exam.ipynb",
      "provenance": [],
      "collapsed_sections": [],
      "authorship_tag": "ABX9TyMQUYdmWP1bQ808NpB2S9oK",
      "include_colab_link": true
    },
    "kernelspec": {
      "name": "python3",
      "display_name": "Python 3"
    },
    "language_info": {
      "name": "python"
    }
  },
  "cells": [
    {
      "cell_type": "markdown",
      "metadata": {
        "id": "view-in-github",
        "colab_type": "text"
      },
      "source": [
        "<a href=\"https://colab.research.google.com/github/haroldmark27/CPEN-21A-ECE--2-1/blob/main/Final_Exam.ipynb\" target=\"_parent\"><img src=\"https://colab.research.google.com/assets/colab-badge.svg\" alt=\"Open In Colab\"/></a>"
      ]
    },
    {
      "cell_type": "markdown",
      "source": [
        "PROBLEM STATEMENT 1."
      ],
      "metadata": {
        "id": "grO9zgFvzU2l"
      }
    },
    {
      "cell_type": "code",
      "source": [
        "#Create a Python program that will produce an output of sum of 10 numbers less than 5 using FOR LOOP statement.\n",
        "\n"
      ],
      "metadata": {
        "id": "ycRFBOZizWR9"
      },
      "execution_count": null,
      "outputs": []
    },
    {
      "cell_type": "code",
      "execution_count": 8,
      "metadata": {
        "id": "03Uj6Mbs5Qmh",
        "colab": {
          "base_uri": "https://localhost:8080/"
        },
        "outputId": "abef9dbd-35e4-43f0-cf75-1ad43e6c98a1"
      },
      "outputs": [
        {
          "output_type": "stream",
          "name": "stdout",
          "text": [
            "[1]Enter a number less than 5: \n",
            "2\n",
            "[2]Enter a number less than 5: \n",
            "2\n",
            "[3]Enter a number less than 5: \n",
            "1\n",
            "[4]Enter a number less than 5: \n",
            "3\n",
            "[5]Enter a number less than 5: \n",
            "4\n",
            "[6]Enter a number less than 5: \n",
            "3\n",
            "[7]Enter a number less than 5: \n",
            "2\n",
            "[8]Enter a number less than 5: \n",
            "3\n",
            "[9]Enter a number less than 5: \n",
            "2\n",
            "[10]Enter a number less than 5: \n",
            "1\n",
            "Summation: 23\n"
          ]
        }
      ],
      "source": [
        "summation = 0\n",
        "index = 0\n",
        "temp = 0\n",
        "\n",
        "while index < 10:\n",
        "    print(\"[\" + str(index + 1) + \"]Enter a number less than 5: \")\n",
        "    temp = input()\n",
        "\n",
        "    if int(temp) < 5:\n",
        "        summation += int(temp)\n",
        "        index += 1\n",
        "\n",
        "print(\"Summation: \" + str(summation))"
      ]
    },
    {
      "cell_type": "markdown",
      "source": [
        "Problem statement 2"
      ],
      "metadata": {
        "id": "UMadlWL3AwFJ"
      }
    },
    {
      "cell_type": "code",
      "source": [
        "#Create a Python program that will produce accept five numbers and determine the sum of first and last number among the five numbers entered using WHILE LOOP."
      ],
      "metadata": {
        "id": "nw5idy6rEWWA"
      },
      "execution_count": null,
      "outputs": []
    },
    {
      "cell_type": "code",
      "source": [
        "15num=1;\n",
        "data={};\n",
        "while(num <=5):\n",
        "  i = str(num);\n",
        "  data[num] = input(\"Enter Number:\")\n",
        "  print(\"Value for Number \"+ i +\" is \"+ data[num])\n",
        "  num+=1\n",
        "  if(num==6):\n",
        "    sum=float(data[1])+float(data[5])\n",
        "print(\"The sum of the first and last number is: \" + str(sum))"
      ],
      "metadata": {
        "id": "uk49Gqp_5cbx",
        "colab": {
          "base_uri": "https://localhost:8080/"
        },
        "outputId": "1ccb21be-3537-4127-f436-234426a00432"
      },
      "execution_count": 10,
      "outputs": [
        {
          "output_type": "stream",
          "name": "stdout",
          "text": [
            "Enter Number:3\n",
            "Value for Number 1 is 3\n",
            "Enter Number:2\n",
            "Value for Number 2 is 2\n",
            "Enter Number:3\n",
            "Value for Number 3 is 3\n",
            "Enter Number:1\n",
            "Value for Number 4 is 1\n",
            "Enter Number:5\n",
            "Value for Number 5 is 5\n",
            "The sum of the first and last number is: 8.0\n"
          ]
        }
      ]
    },
    {
      "cell_type": "markdown",
      "source": [
        "Problem Statement 3"
      ],
      "metadata": {
        "id": "SME39uD2CuAk"
      }
    },
    {
      "cell_type": "code",
      "source": [
        "#Create a Python program to calculate student grades. It accepts a numerical grade as input and it will display the character grade as output based on the given scale: (Use Nested-IF-Else statement)."
      ],
      "metadata": {
        "id": "GhVIxDroEZ9T"
      },
      "execution_count": null,
      "outputs": []
    },
    {
      "cell_type": "code",
      "source": [
        "grade=float(input(\"Enter your Grade:\"))\n",
        "if grade >=90: print(\"A\")\n",
        "else:\n",
        "  if grade >=80: print(\"B\")\n",
        "  elif grade >=70: print(\"C\")\n",
        "  elif grade >=60: print(\"D\")\n",
        "  else: print(\"F\")"
      ],
      "metadata": {
        "id": "ya98p9I35ZAa",
        "colab": {
          "base_uri": "https://localhost:8080/"
        },
        "outputId": "df0ef3db-1bc6-40c3-a2ad-d49543af3ee9"
      },
      "execution_count": 11,
      "outputs": [
        {
          "output_type": "stream",
          "name": "stdout",
          "text": [
            "Enter your Grade:89\n",
            "B\n"
          ]
        }
      ]
    }
  ]
}